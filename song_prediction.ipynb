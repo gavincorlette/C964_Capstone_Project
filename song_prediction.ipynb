{
 "cells": [
  {
   "metadata": {},
   "cell_type": "markdown",
   "source": [
    "## Popular Song Prediction\n",
    "This notebook explores a dataset of 5,000 songs and uses machine learning to predict if a song will be in the top 25% of streams based on songs features such as\n",
    "acousticness, Danceability, TikTok Virality, etc."
   ],
   "id": "79f78490d00bd4fb"
  },
  {
   "metadata": {
    "ExecuteTime": {
     "end_time": "2025-04-09T15:35:56.367194Z",
     "start_time": "2025-04-09T15:35:56.361389Z"
    }
   },
   "cell_type": "code",
   "source": [
    "import pandas as pd\n",
    "from IPython.core.display_functions import clear_output\n",
    "from jinja2.nodes import Output\n",
    "from matplotlib import pyplot as plt\n",
    "from sklearn.ensemble import RandomForestClassifier\n",
    "from sklearn.metrics import classification_report\n",
    "from sklearn.model_selection import train_test_split"
   ],
   "id": "61f1d031b4911f40",
   "outputs": [],
   "execution_count": 16
  },
  {
   "metadata": {
    "ExecuteTime": {
     "end_time": "2025-04-09T15:35:56.656806Z",
     "start_time": "2025-04-09T15:35:56.640902Z"
    }
   },
   "cell_type": "code",
   "source": [
    "file_path = \"music_dataset.csv\"\n",
    "df = pd.read_csv(file_path)\n",
    "df.head()"
   ],
   "id": "e6154fa5b5698f42",
   "outputs": [
    {
     "data": {
      "text/plain": [
       "          Song             Artist    Streams  Daily Streams       Genre  \\\n",
       "0  Track 14728           EchoSync  689815326         796199        Trap   \n",
       "1  Track 21319  The Midnight Howl  457954557        2426710  Electronic   \n",
       "2  Track 22152    Retro Resonance  217316865        1639915      Reggae   \n",
       "3  Track 80217     Urban Rhapsody  312747634        3614532         Pop   \n",
       "4  Track 77204       Sofia Carter  726442597        1028518       Blues   \n",
       "\n",
       "   Release Year  Peak Position  Weeks on Chart  Lyrics Sentiment  \\\n",
       "0          2021             81               8              0.20   \n",
       "1          2018             44              99              0.51   \n",
       "2          1992             57              12              0.36   \n",
       "3          2000             21              50              0.89   \n",
       "4          2001             97               9             -0.62   \n",
       "\n",
       "   TikTok Virality  Danceability  Acousticness  Energy  \n",
       "0               17          0.11          0.59    0.60  \n",
       "1               30          0.61          0.25    0.71  \n",
       "2               11          0.43          0.58    0.20  \n",
       "3               44          0.18          0.04    0.63  \n",
       "4               71          0.82          0.59    0.61  "
      ],
      "text/html": [
       "<div>\n",
       "<style scoped>\n",
       "    .dataframe tbody tr th:only-of-type {\n",
       "        vertical-align: middle;\n",
       "    }\n",
       "\n",
       "    .dataframe tbody tr th {\n",
       "        vertical-align: top;\n",
       "    }\n",
       "\n",
       "    .dataframe thead th {\n",
       "        text-align: right;\n",
       "    }\n",
       "</style>\n",
       "<table border=\"1\" class=\"dataframe\">\n",
       "  <thead>\n",
       "    <tr style=\"text-align: right;\">\n",
       "      <th></th>\n",
       "      <th>Song</th>\n",
       "      <th>Artist</th>\n",
       "      <th>Streams</th>\n",
       "      <th>Daily Streams</th>\n",
       "      <th>Genre</th>\n",
       "      <th>Release Year</th>\n",
       "      <th>Peak Position</th>\n",
       "      <th>Weeks on Chart</th>\n",
       "      <th>Lyrics Sentiment</th>\n",
       "      <th>TikTok Virality</th>\n",
       "      <th>Danceability</th>\n",
       "      <th>Acousticness</th>\n",
       "      <th>Energy</th>\n",
       "    </tr>\n",
       "  </thead>\n",
       "  <tbody>\n",
       "    <tr>\n",
       "      <th>0</th>\n",
       "      <td>Track 14728</td>\n",
       "      <td>EchoSync</td>\n",
       "      <td>689815326</td>\n",
       "      <td>796199</td>\n",
       "      <td>Trap</td>\n",
       "      <td>2021</td>\n",
       "      <td>81</td>\n",
       "      <td>8</td>\n",
       "      <td>0.20</td>\n",
       "      <td>17</td>\n",
       "      <td>0.11</td>\n",
       "      <td>0.59</td>\n",
       "      <td>0.60</td>\n",
       "    </tr>\n",
       "    <tr>\n",
       "      <th>1</th>\n",
       "      <td>Track 21319</td>\n",
       "      <td>The Midnight Howl</td>\n",
       "      <td>457954557</td>\n",
       "      <td>2426710</td>\n",
       "      <td>Electronic</td>\n",
       "      <td>2018</td>\n",
       "      <td>44</td>\n",
       "      <td>99</td>\n",
       "      <td>0.51</td>\n",
       "      <td>30</td>\n",
       "      <td>0.61</td>\n",
       "      <td>0.25</td>\n",
       "      <td>0.71</td>\n",
       "    </tr>\n",
       "    <tr>\n",
       "      <th>2</th>\n",
       "      <td>Track 22152</td>\n",
       "      <td>Retro Resonance</td>\n",
       "      <td>217316865</td>\n",
       "      <td>1639915</td>\n",
       "      <td>Reggae</td>\n",
       "      <td>1992</td>\n",
       "      <td>57</td>\n",
       "      <td>12</td>\n",
       "      <td>0.36</td>\n",
       "      <td>11</td>\n",
       "      <td>0.43</td>\n",
       "      <td>0.58</td>\n",
       "      <td>0.20</td>\n",
       "    </tr>\n",
       "    <tr>\n",
       "      <th>3</th>\n",
       "      <td>Track 80217</td>\n",
       "      <td>Urban Rhapsody</td>\n",
       "      <td>312747634</td>\n",
       "      <td>3614532</td>\n",
       "      <td>Pop</td>\n",
       "      <td>2000</td>\n",
       "      <td>21</td>\n",
       "      <td>50</td>\n",
       "      <td>0.89</td>\n",
       "      <td>44</td>\n",
       "      <td>0.18</td>\n",
       "      <td>0.04</td>\n",
       "      <td>0.63</td>\n",
       "    </tr>\n",
       "    <tr>\n",
       "      <th>4</th>\n",
       "      <td>Track 77204</td>\n",
       "      <td>Sofia Carter</td>\n",
       "      <td>726442597</td>\n",
       "      <td>1028518</td>\n",
       "      <td>Blues</td>\n",
       "      <td>2001</td>\n",
       "      <td>97</td>\n",
       "      <td>9</td>\n",
       "      <td>-0.62</td>\n",
       "      <td>71</td>\n",
       "      <td>0.82</td>\n",
       "      <td>0.59</td>\n",
       "      <td>0.61</td>\n",
       "    </tr>\n",
       "  </tbody>\n",
       "</table>\n",
       "</div>"
      ]
     },
     "execution_count": 17,
     "metadata": {},
     "output_type": "execute_result"
    }
   ],
   "execution_count": 17
  },
  {
   "metadata": {},
   "cell_type": "markdown",
   "source": [
    "## Top 10 Genres\n",
    "This bar chart will show which genres appear most frequently in the dataset."
   ],
   "id": "9d938d5b72880e0f"
  },
  {
   "metadata": {
    "ExecuteTime": {
     "end_time": "2025-04-09T15:35:57.345436Z",
     "start_time": "2025-04-09T15:35:57.283916Z"
    }
   },
   "cell_type": "code",
   "source": [
    "top_genres = df['Genre'].value_counts().head(10)\n",
    "plt.figure(figsize = (10,5))\n",
    "top_genres.plot(kind = 'bar')\n",
    "\n",
    "plt.xlabel(\"Genre\")\n",
    "plt.ylabel(\"Number of Songs\")\n",
    "plt.title(\"Top 10 Genres\")\n",
    "plt.xticks(rotation = 360)\n",
    "plt.tight_layout()\n",
    "plt.show()"
   ],
   "id": "2b0d8ec880e64618",
   "outputs": [
    {
     "data": {
      "text/plain": [
       "<Figure size 1000x500 with 1 Axes>"
      ],
      "image/png": "[encoded data removed]"
     },
     "metadata": {},
     "output_type": "display_data"
    }
   ],
   "execution_count": 18
  },
  {
   "metadata": {},
   "cell_type": "markdown",
   "source": [
    "## Average Streams By Year\n",
    "This line chart shows the average daily streams of a song by release year."
   ],
   "id": "cd498bff01c3c202"
  },
  {
   "metadata": {
    "ExecuteTime": {
     "end_time": "2025-04-09T15:35:58.033920Z",
     "start_time": "2025-04-09T15:35:57.955760Z"
    }
   },
   "cell_type": "code",
   "source": [
    "avg_streams = df.groupby('Release Year')['Daily Streams'].mean()\n",
    "plt.figure(figsize = (10,5))\n",
    "avg_streams.plot(kind = 'line', marker = 'o')\n",
    "\n",
    "plt.xlabel(\"Release Year\")\n",
    "plt.ylabel(\"Average Daily Streams\")\n",
    "plt.title(\"Average Daily Streams By Release Year\")\n",
    "plt.tight_layout()\n",
    "plt.show()"
   ],
   "id": "b253bb1710280c88",
   "outputs": [
    {
     "data": {
      "text/plain": [
       "<Figure size 1000x500 with 1 Axes>"
      ],
      "image/png": "[encoded data removed]"
     },
     "metadata": {},
     "output_type": "display_data"
    }
   ],
   "execution_count": 19
  },
  {
   "metadata": {},
   "cell_type": "markdown",
   "source": [
    "## Top 10 Streamed Artists\n",
    "The following horizontal bar chart shows the top 10 most streamed artists in this dataset."
   ],
   "id": "d29719d2c7bddfac"
  },
  {
   "metadata": {
    "ExecuteTime": {
     "end_time": "2025-04-09T15:35:58.743280Z",
     "start_time": "2025-04-09T15:35:58.684305Z"
    }
   },
   "cell_type": "code",
   "source": [
    "df.groupby('Artist')['Streams'].sum().nlargest(10).plot(kind=\"barh\", figsize=(10,5))\n",
    "plt.xlabel(\"Streams\")\n",
    "plt.ylabel(\"Artist\")\n",
    "plt.title(\"Top 10 Artists by Streams\")\n",
    "plt.tight_layout()\n",
    "# Put highest streamed artist on top\n",
    "plt.gca().invert_yaxis()\n",
    "plt.show()"
   ],
   "id": "a59d9249826c2a69",
   "outputs": [
    {
     "data": {
      "text/plain": [
       "<Figure size 1000x500 with 1 Axes>"
      ],
      "image/png": "[encoded data removed]"
     },
     "metadata": {},
     "output_type": "display_data"
    }
   ],
   "execution_count": 20
  },
  {
   "metadata": {},
   "cell_type": "markdown",
   "source": [
    "## Training the Random Forest Model\n",
    "This is where we will train a machine learning model to predict if a song will be in the top 25% of streams\n",
    "using features such as Acousticness, Energy, and Danceability."
   ],
   "id": "193d2c34fe18572c"
  },
  {
   "metadata": {},
   "cell_type": "markdown",
   "source": "#### Define threshold and prepare data.",
   "id": "1afdcb01c893a6ba"
  },
  {
   "metadata": {
    "ExecuteTime": {
     "end_time": "2025-04-09T15:36:00.014190Z",
     "start_time": "2025-04-09T15:36:00.007288Z"
    }
   },
   "cell_type": "code",
   "source": [
    "# Define threshold (top 25% of streams)\n",
    "threshold = df['Streams'].quantile(0.75)\n",
    "\n",
    "# Define features\n",
    "x = df[['Danceability', 'Energy', 'Acousticness', 'TikTok Virality', 'Lyrics Sentiment']]\n",
    "y = df['Streams'].apply(lambda x: 1 if x >= threshold else 0)"
   ],
   "id": "b36c926177da474",
   "outputs": [],
   "execution_count": 21
  },
  {
   "metadata": {},
   "cell_type": "markdown",
   "source": [
    "#### Split the data into training and test splits. This model will be trained on 80% of the data\n",
    "#### and tested on the other 20%."
   ],
   "id": "495390ad1217d0e"
  },
  {
   "metadata": {
    "ExecuteTime": {
     "end_time": "2025-04-09T15:36:00.910725Z",
     "start_time": "2025-04-09T15:36:00.904591Z"
    }
   },
   "cell_type": "code",
   "source": [
    "# Train-test split\n",
    "x_train, x_test, y_train, y_test = train_test_split(x, y, test_size = 0.2, random_state = 0)"
   ],
   "id": "a9086e8bf2042341",
   "outputs": [],
   "execution_count": 22
  },
  {
   "metadata": {},
   "cell_type": "markdown",
   "source": "#### Now initialize and train the Random Forest model.",
   "id": "d940017ba763756b"
  },
  {
   "metadata": {
    "ExecuteTime": {
     "end_time": "2025-04-09T15:36:02.188042Z",
     "start_time": "2025-04-09T15:36:01.769837Z"
    }
   },
   "cell_type": "code",
   "source": [
    "# Initialize and train model\n",
    "model = RandomForestClassifier(n_estimators = 100, random_state = 0)\n",
    "model.fit(x_train, y_train)"
   ],
   "id": "5366a3e186bec359",
   "outputs": [
    {
     "data": {
      "text/plain": [
       "RandomForestClassifier(random_state=0)"
      ],
      "text/html": [
       "<style>#sk-container-id-2 {\n",
       "  /* Definition of color scheme common for light and dark mode */\n",
       "  --sklearn-color-text: #000;\n",
       "  --sklearn-color-text-muted: #666;\n",
       "  --sklearn-color-line: gray;\n",
       "  /* Definition of color scheme for unfitted estimators */\n",
       "  --sklearn-color-unfitted-level-0: #fff5e6;\n",
       "  --sklearn-color-unfitted-level-1: #f6e4d2;\n",
       "  --sklearn-color-unfitted-level-2: #ffe0b3;\n",
       "  --sklearn-color-unfitted-level-3: chocolate;\n",
       "  /* Definition of color scheme for fitted estimators */\n",
       "  --sklearn-color-fitted-level-0: #f0f8ff;\n",
       "  --sklearn-color-fitted-level-1: #d4ebff;\n",
       "  --sklearn-color-fitted-level-2: #b3dbfd;\n",
       "  --sklearn-color-fitted-level-3: cornflowerblue;\n",
       "\n",
       "  /* Specific color for light theme */\n",
       "  --sklearn-color-text-on-default-background: var(--sg-text-color, var(--theme-code-foreground, var(--jp-content-font-color1, black)));\n",
       "  --sklearn-color-background: var(--sg-background-color, var(--theme-background, var(--jp-layout-color0, white)));\n",
       "  --sklearn-color-border-box: var(--sg-text-color, var(--theme-code-foreground, var(--jp-content-font-color1, black)));\n",
       "  --sklearn-color-icon: #696969;\n",
       "\n",
       "  @media (prefers-color-scheme: dark) {\n",
       "    /* Redefinition of color scheme for dark theme */\n",
       "    --sklearn-color-text-on-default-background: var(--sg-text-color, var(--theme-code-foreground, var(--jp-content-font-color1, white)));\n",
       "    --sklearn-color-background: var(--sg-background-color, var(--theme-background, var(--jp-layout-color0, #111)));\n",
       "    --sklearn-color-border-box: var(--sg-text-color, var(--theme-code-foreground, var(--jp-content-font-color1, white)));\n",
       "    --sklearn-color-icon: #878787;\n",
       "  }\n",
       "}\n",
       "\n",
       "#sk-container-id-2 {\n",
       "  color: var(--sklearn-color-text);\n",
       "}\n",
       "\n",
       "#sk-container-id-2 pre {\n",
       "  padding: 0;\n",
       "}\n",
       "\n",
       "#sk-container-id-2 input.sk-hidden--visually {\n",
       "  border: 0;\n",
       "  clip: rect(1px 1px 1px 1px);\n",
       "  clip: rect(1px, 1px, 1px, 1px);\n",
       "  height: 1px;\n",
       "  margin: -1px;\n",
       "  overflow: hidden;\n",
       "  padding: 0;\n",
       "  position: absolute;\n",
       "  width: 1px;\n",
       "}\n",
       "\n",
       "#sk-container-id-2 div.sk-dashed-wrapped {\n",
       "  border: 1px dashed var(--sklearn-color-line);\n",
       "  margin: 0 0.4em 0.5em 0.4em;\n",
       "  box-sizing: border-box;\n",
       "  padding-bottom: 0.4em;\n",
       "  background-color: var(--sklearn-color-background);\n",
       "}\n",
       "\n",
       "#sk-container-id-2 div.sk-container {\n",
       "  /* jupyter's `normalize.less` sets `[hidden] { display: none; }`\n",
       "     but bootstrap.min.css set `[hidden] { display: none !important; }`\n",
       "     so we also need the `!important` here to be able to override the\n",
       "     default hidden behavior on the sphinx rendered scikit-learn.org.\n",
       "     See: https://github.com/scikit-learn/scikit-learn/issues/21755 */\n",
       "  display: inline-block !important;\n",
       "  position: relative;\n",
       "}\n",
       "\n",
       "#sk-container-id-2 div.sk-text-repr-fallback {\n",
       "  display: none;\n",
       "}\n",
       "\n",
       "div.sk-parallel-item,\n",
       "div.sk-serial,\n",
       "div.sk-item {\n",
       "  /* draw centered vertical line to link estimators */\n",
       "  background-image: linear-gradient(var(--sklearn-color-text-on-default-background), var(--sklearn-color-text-on-default-background));\n",
       "  background-size: 2px 100%;\n",
       "  background-repeat: no-repeat;\n",
       "  background-position: center center;\n",
       "}\n",
       "\n",
       "/* Parallel-specific style estimator block */\n",
       "\n",
       "#sk-container-id-2 div.sk-parallel-item::after {\n",
       "  content: \"\";\n",
       "  width: 100%;\n",
       "  border-bottom: 2px solid var(--sklearn-color-text-on-default-background);\n",
       "  flex-grow: 1;\n",
       "}\n",
       "\n",
       "#sk-container-id-2 div.sk-parallel {\n",
       "  display: flex;\n",
       "  align-items: stretch;\n",
       "  justify-content: center;\n",
       "  background-color: var(--sklearn-color-background);\n",
       "  position: relative;\n",
       "}\n",
       "\n",
       "#sk-container-id-2 div.sk-parallel-item {\n",
       "  display: flex;\n",
       "  flex-direction: column;\n",
       "}\n",
       "\n",
       "#sk-container-id-2 div.sk-parallel-item:first-child::after {\n",
       "  align-self: flex-end;\n",
       "  width: 50%;\n",
       "}\n",
       "\n",
       "#sk-container-id-2 div.sk-parallel-item:last-child::after {\n",
       "  align-self: flex-start;\n",
       "  width: 50%;\n",
       "}\n",
       "\n",
       "#sk-container-id-2 div.sk-parallel-item:only-child::after {\n",
       "  width: 0;\n",
       "}\n",
       "\n",
       "/* Serial-specific style estimator block */\n",
       "\n",
       "#sk-container-id-2 div.sk-serial {\n",
       "  display: flex;\n",
       "  flex-direction: column;\n",
       "  align-items: center;\n",
       "  background-color: var(--sklearn-color-background);\n",
       "  padding-right: 1em;\n",
       "  padding-left: 1em;\n",
       "}\n",
       "\n",
       "\n",
       "/* Toggleable style: style used for estimator/Pipeline/ColumnTransformer box that is\n",
       "clickable and can be expanded/collapsed.\n",
       "- Pipeline and ColumnTransformer use this feature and define the default style\n",
       "- Estimators will overwrite some part of the style using the `sk-estimator` class\n",
       "*/\n",
       "\n",
       "/* Pipeline and ColumnTransformer style (default) */\n",
       "\n",
       "#sk-container-id-2 div.sk-toggleable {\n",
       "  /* Default theme specific background. It is overwritten whether we have a\n",
       "  specific estimator or a Pipeline/ColumnTransformer */\n",
       "  background-color: var(--sklearn-color-background);\n",
       "}\n",
       "\n",
       "/* Toggleable label */\n",
       "#sk-container-id-2 label.sk-toggleable__label {\n",
       "  cursor: pointer;\n",
       "  display: flex;\n",
       "  width: 100%;\n",
       "  margin-bottom: 0;\n",
       "  padding: 0.5em;\n",
       "  box-sizing: border-box;\n",
       "  text-align: center;\n",
       "  align-items: start;\n",
       "  justify-content: space-between;\n",
       "  gap: 0.5em;\n",
       "}\n",
       "\n",
       "#sk-container-id-2 label.sk-toggleable__label .caption {\n",
       "  font-size: 0.6rem;\n",
       "  font-weight: lighter;\n",
       "  color: var(--sklearn-color-text-muted);\n",
       "}\n",
       "\n",
       "#sk-container-id-2 label.sk-toggleable__label-arrow:before {\n",
       "  /* Arrow on the left of the label */\n",
       "  content: \"▸\";\n",
       "  float: left;\n",
       "  margin-right: 0.25em;\n",
       "  color: var(--sklearn-color-icon);\n",
       "}\n",
       "\n",
       "#sk-container-id-2 label.sk-toggleable__label-arrow:hover:before {\n",
       "  color: var(--sklearn-color-text);\n",
       "}\n",
       "\n",
       "/* Toggleable content - dropdown */\n",
       "\n",
       "#sk-container-id-2 div.sk-toggleable__content {\n",
       "  max-height: 0;\n",
       "  max-width: 0;\n",
       "  overflow: hidden;\n",
       "  text-align: left;\n",
       "  /* unfitted */\n",
       "  background-color: var(--sklearn-color-unfitted-level-0);\n",
       "}\n",
       "\n",
       "#sk-container-id-2 div.sk-toggleable__content.fitted {\n",
       "  /* fitted */\n",
       "  background-color: var(--sklearn-color-fitted-level-0);\n",
       "}\n",
       "\n",
       "#sk-container-id-2 div.sk-toggleable__content pre {\n",
       "  margin: 0.2em;\n",
       "  border-radius: 0.25em;\n",
       "  color: var(--sklearn-color-text);\n",
       "  /* unfitted */\n",
       "  background-color: var(--sklearn-color-unfitted-level-0);\n",
       "}\n",
       "\n",
       "#sk-container-id-2 div.sk-toggleable__content.fitted pre {\n",
       "  /* unfitted */\n",
       "  background-color: var(--sklearn-color-fitted-level-0);\n",
       "}\n",
       "\n",
       "#sk-container-id-2 input.sk-toggleable__control:checked~div.sk-toggleable__content {\n",
       "  /* Expand drop-down */\n",
       "  max-height: 200px;\n",
       "  max-width: 100%;\n",
       "  overflow: auto;\n",
       "}\n",
       "\n",
       "#sk-container-id-2 input.sk-toggleable__control:checked~label.sk-toggleable__label-arrow:before {\n",
       "  content: \"▾\";\n",
       "}\n",
       "\n",
       "/* Pipeline/ColumnTransformer-specific style */\n",
       "\n",
       "#sk-container-id-2 div.sk-label input.sk-toggleable__control:checked~label.sk-toggleable__label {\n",
       "  color: var(--sklearn-color-text);\n",
       "  background-color: var(--sklearn-color-unfitted-level-2);\n",
       "}\n",
       "\n",
       "#sk-container-id-2 div.sk-label.fitted input.sk-toggleable__control:checked~label.sk-toggleable__label {\n",
       "  background-color: var(--sklearn-color-fitted-level-2);\n",
       "}\n",
       "\n",
       "/* Estimator-specific style */\n",
       "\n",
       "/* Colorize estimator box */\n",
       "#sk-container-id-2 div.sk-estimator input.sk-toggleable__control:checked~label.sk-toggleable__label {\n",
       "  /* unfitted */\n",
       "  background-color: var(--sklearn-color-unfitted-level-2);\n",
       "}\n",
       "\n",
       "#sk-container-id-2 div.sk-estimator.fitted input.sk-toggleable__control:checked~label.sk-toggleable__label {\n",
       "  /* fitted */\n",
       "  background-color: var(--sklearn-color-fitted-level-2);\n",
       "}\n",
       "\n",
       "#sk-container-id-2 div.sk-label label.sk-toggleable__label,\n",
       "#sk-container-id-2 div.sk-label label {\n",
       "  /* The background is the default theme color */\n",
       "  color: var(--sklearn-color-text-on-default-background);\n",
       "}\n",
       "\n",
       "/* On hover, darken the color of the background */\n",
       "#sk-container-id-2 div.sk-label:hover label.sk-toggleable__label {\n",
       "  color: var(--sklearn-color-text);\n",
       "  background-color: var(--sklearn-color-unfitted-level-2);\n",
       "}\n",
       "\n",
       "/* Label box, darken color on hover, fitted */\n",
       "#sk-container-id-2 div.sk-label.fitted:hover label.sk-toggleable__label.fitted {\n",
       "  color: var(--sklearn-color-text);\n",
       "  background-color: var(--sklearn-color-fitted-level-2);\n",
       "}\n",
       "\n",
       "/* Estimator label */\n",
       "\n",
       "#sk-container-id-2 div.sk-label label {\n",
       "  font-family: monospace;\n",
       "  font-weight: bold;\n",
       "  display: inline-block;\n",
       "  line-height: 1.2em;\n",
       "}\n",
       "\n",
       "#sk-container-id-2 div.sk-label-container {\n",
       "  text-align: center;\n",
       "}\n",
       "\n",
       "/* Estimator-specific */\n",
       "#sk-container-id-2 div.sk-estimator {\n",
       "  font-family: monospace;\n",
       "  border: 1px dotted var(--sklearn-color-border-box);\n",
       "  border-radius: 0.25em;\n",
       "  box-sizing: border-box;\n",
       "  margin-bottom: 0.5em;\n",
       "  /* unfitted */\n",
       "  background-color: var(--sklearn-color-unfitted-level-0);\n",
       "}\n",
       "\n",
       "#sk-container-id-2 div.sk-estimator.fitted {\n",
       "  /* fitted */\n",
       "  background-color: var(--sklearn-color-fitted-level-0);\n",
       "}\n",
       "\n",
       "/* on hover */\n",
       "#sk-container-id-2 div.sk-estimator:hover {\n",
       "  /* unfitted */\n",
       "  background-color: var(--sklearn-color-unfitted-level-2);\n",
       "}\n",
       "\n",
       "#sk-container-id-2 div.sk-estimator.fitted:hover {\n",
       "  /* fitted */\n",
       "  background-color: var(--sklearn-color-fitted-level-2);\n",
       "}\n",
       "\n",
       "/* Specification for estimator info (e.g. \"i\" and \"?\") */\n",
       "\n",
       "/* Common style for \"i\" and \"?\" */\n",
       "\n",
       ".sk-estimator-doc-link,\n",
       "a:link.sk-estimator-doc-link,\n",
       "a:visited.sk-estimator-doc-link {\n",
       "  float: right;\n",
       "  font-size: smaller;\n",
       "  line-height: 1em;\n",
       "  font-family: monospace;\n",
       "  background-color: var(--sklearn-color-background);\n",
       "  border-radius: 1em;\n",
       "  height: 1em;\n",
       "  width: 1em;\n",
       "  text-decoration: none !important;\n",
       "  margin-left: 0.5em;\n",
       "  text-align: center;\n",
       "  /* unfitted */\n",
       "  border: var(--sklearn-color-unfitted-level-1) 1pt solid;\n",
       "  color: var(--sklearn-color-unfitted-level-1);\n",
       "}\n",
       "\n",
       ".sk-estimator-doc-link.fitted,\n",
       "a:link.sk-estimator-doc-link.fitted,\n",
       "a:visited.sk-estimator-doc-link.fitted {\n",
       "  /* fitted */\n",
       "  border: var(--sklearn-color-fitted-level-1) 1pt solid;\n",
       "  color: var(--sklearn-color-fitted-level-1);\n",
       "}\n",
       "\n",
       "/* On hover */\n",
       "div.sk-estimator:hover .sk-estimator-doc-link:hover,\n",
       ".sk-estimator-doc-link:hover,\n",
       "div.sk-label-container:hover .sk-estimator-doc-link:hover,\n",
       ".sk-estimator-doc-link:hover {\n",
       "  /* unfitted */\n",
       "  background-color: var(--sklearn-color-unfitted-level-3);\n",
       "  color: var(--sklearn-color-background);\n",
       "  text-decoration: none;\n",
       "}\n",
       "\n",
       "div.sk-estimator.fitted:hover .sk-estimator-doc-link.fitted:hover,\n",
       ".sk-estimator-doc-link.fitted:hover,\n",
       "div.sk-label-container:hover .sk-estimator-doc-link.fitted:hover,\n",
       ".sk-estimator-doc-link.fitted:hover {\n",
       "  /* fitted */\n",
       "  background-color: var(--sklearn-color-fitted-level-3);\n",
       "  color: var(--sklearn-color-background);\n",
       "  text-decoration: none;\n",
       "}\n",
       "\n",
       "/* Span, style for the box shown on hovering the info icon */\n",
       ".sk-estimator-doc-link span {\n",
       "  display: none;\n",
       "  z-index: 9999;\n",
       "  position: relative;\n",
       "  font-weight: normal;\n",
       "  right: .2ex;\n",
       "  padding: .5ex;\n",
       "  margin: .5ex;\n",
       "  width: min-content;\n",
       "  min-width: 20ex;\n",
       "  max-width: 50ex;\n",
       "  color: var(--sklearn-color-text);\n",
       "  box-shadow: 2pt 2pt 4pt #999;\n",
       "  /* unfitted */\n",
       "  background: var(--sklearn-color-unfitted-level-0);\n",
       "  border: .5pt solid var(--sklearn-color-unfitted-level-3);\n",
       "}\n",
       "\n",
       ".sk-estimator-doc-link.fitted span {\n",
       "  /* fitted */\n",
       "  background: var(--sklearn-color-fitted-level-0);\n",
       "  border: var(--sklearn-color-fitted-level-3);\n",
       "}\n",
       "\n",
       ".sk-estimator-doc-link:hover span {\n",
       "  display: block;\n",
       "}\n",
       "\n",
       "/* \"?\"-specific style due to the `<a>` HTML tag */\n",
       "\n",
       "#sk-container-id-2 a.estimator_doc_link {\n",
       "  float: right;\n",
       "  font-size: 1rem;\n",
       "  line-height: 1em;\n",
       "  font-family: monospace;\n",
       "  background-color: var(--sklearn-color-background);\n",
       "  border-radius: 1rem;\n",
       "  height: 1rem;\n",
       "  width: 1rem;\n",
       "  text-decoration: none;\n",
       "  /* unfitted */\n",
       "  color: var(--sklearn-color-unfitted-level-1);\n",
       "  border: var(--sklearn-color-unfitted-level-1) 1pt solid;\n",
       "}\n",
       "\n",
       "#sk-container-id-2 a.estimator_doc_link.fitted {\n",
       "  /* fitted */\n",
       "  border: var(--sklearn-color-fitted-level-1) 1pt solid;\n",
       "  color: var(--sklearn-color-fitted-level-1);\n",
       "}\n",
       "\n",
       "/* On hover */\n",
       "#sk-container-id-2 a.estimator_doc_link:hover {\n",
       "  /* unfitted */\n",
       "  background-color: var(--sklearn-color-unfitted-level-3);\n",
       "  color: var(--sklearn-color-background);\n",
       "  text-decoration: none;\n",
       "}\n",
       "\n",
       "#sk-container-id-2 a.estimator_doc_link.fitted:hover {\n",
       "  /* fitted */\n",
       "  background-color: var(--sklearn-color-fitted-level-3);\n",
       "}\n",
       "</style><div id=\"sk-container-id-2\" class=\"sk-top-container\"><div class=\"sk-text-repr-fallback\"><pre>RandomForestClassifier(random_state=0)</pre><b>In a Jupyter environment, please rerun this cell to show the HTML representation or trust the notebook. <br />On GitHub, the HTML representation is unable to render, please try loading this page with nbviewer.org.</b></div><div class=\"sk-container\" hidden><div class=\"sk-item\"><div class=\"sk-estimator fitted sk-toggleable\"><input class=\"sk-toggleable__control sk-hidden--visually\" id=\"sk-estimator-id-2\" type=\"checkbox\" checked><label for=\"sk-estimator-id-2\" class=\"sk-toggleable__label fitted sk-toggleable__label-arrow\"><div><div>RandomForestClassifier</div></div><div><a class=\"sk-estimator-doc-link fitted\" rel=\"noreferrer\" target=\"_blank\" href=\"https://scikit-learn.org/1.6/modules/generated/sklearn.ensemble.RandomForestClassifier.html\">?<span>Documentation for RandomForestClassifier</span></a><span class=\"sk-estimator-doc-link fitted\">i<span>Fitted</span></span></div></label><div class=\"sk-toggleable__content fitted\"><pre>RandomForestClassifier(random_state=0)</pre></div> </div></div></div></div>"
      ]
     },
     "execution_count": 23,
     "metadata": {},
     "output_type": "execute_result"
    }
   ],
   "execution_count": 23
  },
  {
   "metadata": {},
   "cell_type": "markdown",
   "source": "#### Make predictions.",
   "id": "fa8da01c69df4f14"
  },
  {
   "metadata": {
    "ExecuteTime": {
     "end_time": "2025-04-09T15:36:03.110190Z",
     "start_time": "2025-04-09T15:36:03.081460Z"
    }
   },
   "cell_type": "code",
   "source": "y_pred = model.predict(x_test)",
   "id": "e7b34a056b85e3b4",
   "outputs": [],
   "execution_count": 24
  },
  {
   "metadata": {},
   "cell_type": "markdown",
   "source": "#### Now let's evaluate the model's performance.",
   "id": "5bb91efd5c553d97"
  },
  {
   "metadata": {
    "ExecuteTime": {
     "end_time": "2025-04-09T15:36:04.383148Z",
     "start_time": "2025-04-09T15:36:04.373563Z"
    }
   },
   "cell_type": "code",
   "source": "print(classification_report(y_test, y_pred))",
   "id": "6b01e3c137e60eca",
   "outputs": [
    {
     "name": "stdout",
     "output_type": "stream",
     "text": [
      "              precision    recall  f1-score   support\n",
      "\n",
      "           0       0.76      0.98      0.86       731\n",
      "           1       0.40      0.03      0.06       239\n",
      "\n",
      "    accuracy                           0.75       970\n",
      "   macro avg       0.58      0.51      0.46       970\n",
      "weighted avg       0.67      0.75      0.66       970\n",
      "\n"
     ]
    }
   ],
   "execution_count": 25
  },
  {
   "metadata": {},
   "cell_type": "markdown",
   "source": "#### Let's test the model on new data.",
   "id": "5ab0212c0e2a1b62"
  },
  {
   "metadata": {
    "ExecuteTime": {
     "end_time": "2025-04-09T15:36:06.145235Z",
     "start_time": "2025-04-09T15:36:06.134271Z"
    }
   },
   "cell_type": "code",
   "source": [
    "def predict_song(input_data):\n",
    "    input_data = pd.DataFrame([input_data], columns = ['Danceability', 'Energy', 'Acousticness', 'TikTok Virality', 'Lyrics Sentiment'])\n",
    "    prediction = model.predict(input_data)\n",
    "    return \"Top 25%\" if prediction[0] == 1 else \"Not Top 25%\"\n",
    "\n",
    "new_song = [0.65, 0.58, 0.21, 14, 0.56]\n",
    "result = predict_song(new_song)\n",
    "print(\"Prediction:\", result)"
   ],
   "id": "5b173768b0d1df9d",
   "outputs": [
    {
     "name": "stdout",
     "output_type": "stream",
     "text": [
      "Prediction: Not Top 25%\n"
     ]
    }
   ],
   "execution_count": 26
  },
  {
   "metadata": {},
   "cell_type": "markdown",
   "source": "#### Time to add some interactive features to this project.",
   "id": "a24baf18ccea8ee7"
  },
  {
   "metadata": {
    "ExecuteTime": {
     "end_time": "2025-04-09T15:36:17.270564Z",
     "start_time": "2025-04-09T15:36:17.245063Z"
    }
   },
   "cell_type": "code",
   "source": [
    "import ipywidgets as widgets\n",
    "from IPython.display import display, clear_output\n",
    "\n",
    "# Slider widgets\n",
    "danceability = widgets.FloatSlider(value=0.0, min=0.0, max=1.0, step=0.01, description='Danceability')\n",
    "energy = widgets.FloatSlider(value=0.0, min=0.0, max=1.0, step=0.01, description='Energy')\n",
    "acousticness = widgets.FloatSlider(value=0.0, min=0.0, max=1.0, step=0.01, description='Acousticness')\n",
    "virality = widgets.IntSlider(value=0.0, min=0, max=100, step=1, description='TikTok Virality')\n",
    "lyrics = widgets.FloatSlider(value=0.0, min=-1.0, max=1.0, step=0.01, description='Lyrics')\n",
    "\n",
    "# Display sliders\n",
    "display(danceability, energy, acousticness, virality, lyrics)\n",
    "\n",
    "# Add predict button\n",
    "predict_button = widgets.Button(description=\"Predict\")\n",
    "\n",
    "# Initialize to properly display predict output\n",
    "output=widgets.Output()\n",
    "\n",
    "# Function for logic from sliders to be applied to predict button\n",
    "def button_predict(b):\n",
    "    new_song = [danceability.value, energy.value, acousticness.value, virality.value, lyrics.value]\n",
    "    result = predict_song(new_song)\n",
    "    with output:\n",
    "        clear_output()\n",
    "        print(\"Prediction:\", result)\n",
    "\n",
    "predict_button.on_click(button_predict)\n",
    "display(predict_button, output)"
   ],
   "id": "1a98bfaca50c6139",
   "outputs": [
    {
     "data": {
      "text/plain": [
       "FloatSlider(value=0.0, description='Danceability', max=1.0, step=0.01)"
      ],
      "application/vnd.jupyter.widget-view+json": {
       "version_major": 2,
       "version_minor": 0,
       "model_id": "546e6b61001443eca1a333f770abe6a5"
      }
     },
     "metadata": {},
     "output_type": "display_data"
    },
    {
     "data": {
      "text/plain": [
       "FloatSlider(value=0.0, description='Energy', max=1.0, step=0.01)"
      ],
      "application/vnd.jupyter.widget-view+json": {
       "version_major": 2,
       "version_minor": 0,
       "model_id": "539cbbf01c164a2abccc8fab719fc21f"
      }
     },
     "metadata": {},
     "output_type": "display_data"
    },
    {
     "data": {
      "text/plain": [
       "FloatSlider(value=0.0, description='Acousticness', max=1.0, step=0.01)"
      ],
      "application/vnd.jupyter.widget-view+json": {
       "version_major": 2,
       "version_minor": 0,
       "model_id": "1da2fb8898d34aab9b1bb7982677ddda"
      }
     },
     "metadata": {},
     "output_type": "display_data"
    },
    {
     "data": {
      "text/plain": [
       "IntSlider(value=0, description='TikTok Virality')"
      ],
      "application/vnd.jupyter.widget-view+json": {
       "version_major": 2,
       "version_minor": 0,
       "model_id": "42d618acaec14bb59ac5b8090b840f3a"
      }
     },
     "metadata": {},
     "output_type": "display_data"
    },
    {
     "data": {
      "text/plain": [
       "FloatSlider(value=0.0, description='Lyrics', max=1.0, min=-1.0, step=0.01)"
      ],
      "application/vnd.jupyter.widget-view+json": {
       "version_major": 2,
       "version_minor": 0,
       "model_id": "353f56ca51d649ee9004610e46aa589c"
      }
     },
     "metadata": {},
     "output_type": "display_data"
    },
    {
     "data": {
      "text/plain": [
       "Button(description='Predict', style=ButtonStyle())"
      ],
      "application/vnd.jupyter.widget-view+json": {
       "version_major": 2,
       "version_minor": 0,
       "model_id": "09faa19553574feb855bd56e1a82bd75"
      }
     },
     "metadata": {},
     "output_type": "display_data"
    },
    {
     "data": {
      "text/plain": [
       "Output()"
      ],
      "application/vnd.jupyter.widget-view+json": {
       "version_major": 2,
       "version_minor": 0,
       "model_id": "dfdaf678eead41539b7795fa0a7dfb9d"
      }
     },
     "metadata": {},
     "output_type": "display_data"
    }
   ],
   "execution_count": 28
  },
  {
   "metadata": {},
   "cell_type": "markdown",
   "source": [
    "#### Conclusion\n",
    "This notebook took you on a step-by-step walkthrough of my project. We imported a CSV file of \n",
    "data full of 5,000 songs and audio features that we used to determine popularity. We \n",
    "implemented a machine learning model, trained it, and applied it to new data. Then\n",
    "we built some widgets so that you, the user, were able to implement your own song feature\n",
    "scores to predict if that song would be in the top 25% of streams or not, determining if\n",
    "it's popular."
   ],
   "id": "8838288c945d2c60"
  },
  {
   "metadata": {},
   "cell_type": "code",
   "outputs": [],
   "execution_count": null,
   "source": "",
   "id": "f70522a0d7988417"
  }
 ],
 "metadata": {
  "kernelspec": {
   "display_name": "Python 3",
   "language": "python",
   "name": "python3"
  },
  "language_info": {
   "codemirror_mode": {
    "name": "ipython",
    "version": 2
   },
   "file_extension": ".py",
   "mimetype": "text/x-python",
   "name": "python",
   "nbconvert_exporter": "python",
   "pygments_lexer": "ipython2",
   "version": "2.7.6"
  }
 },
 "nbformat": 4,
 "nbformat_minor": 5
}
